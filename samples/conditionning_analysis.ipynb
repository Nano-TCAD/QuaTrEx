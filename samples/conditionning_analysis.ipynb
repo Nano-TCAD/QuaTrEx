{
 "cells": [
  {
   "cell_type": "code",
   "execution_count": null,
   "metadata": {},
   "outputs": [],
   "source": [
    "import csv\n",
    "import numpy as np\n",
    "import matplotlib.pyplot as plt"
   ]
  },
  {
   "cell_type": "code",
   "execution_count": null,
   "metadata": {},
   "outputs": [],
   "source": [
    "# Read the data from the CSV file\n",
    "# First ligne is the header\n",
    "# Data separated by ;\n",
    "\n",
    "iterations = []\n",
    "energies = []\n",
    "condition_number = []\n",
    "preconditioning_number = []\n",
    "\n",
    "with open('preconditionning_form_first_iteration.csv', newline='') as csvfile:\n",
    "    benchdata = csv.reader(csvfile, delimiter=';', quotechar='|')\n",
    "    # Skip the header\n",
    "    next(benchdata)\n",
    "    for row in benchdata:\n",
    "        iterations.append(int(row[0]))\n",
    "        energies.append(int(row[1]))\n",
    "        condition_number.append(float(row[2]))\n",
    "        preconditioning_number.append(float(row[3]))"
   ]
  },
  {
   "cell_type": "code",
   "execution_count": null,
   "metadata": {},
   "outputs": [],
   "source": [
    "# Make the average of the condition number through the energies and plot\n",
    "# the result as a function of the number of iterations\n",
    "\n",
    "energy_averaged_contition_number = []\n",
    "energy_averaged_preconditioning_number = []\n",
    "\n",
    "n_iterations = max(iterations)\n",
    "n_energies = max(energies) - min(energies) + 1\n",
    "\n",
    "for i_iteration in range(n_iterations):\n",
    "    cond_average = 0.\n",
    "    precond_average = 0.\n",
    "    for i_energy in range(n_energies):\n",
    "        cond_average += condition_number[i_iteration + i_energy * n_iterations]\n",
    "        precond_average += preconditioning_number[i_iteration + i_energy * n_iterations]\n",
    "        \n",
    "    cond_average /= n_energies\n",
    "    precond_average /= n_energies\n",
    "        \n",
    "    energy_averaged_contition_number.append(cond_average)\n",
    "    energy_averaged_preconditioning_number.append(precond_average)\n",
    "    \n",
    "    \n",
    "x_iterations = np.linspace(0, n_iterations, n_iterations)    \n",
    "    \n",
    "    \n",
    "fig, axs = plt.subplots(1, 2, figsize=(15, 5))\n",
    "\n",
    "axs[0].plot(x_iterations, energy_averaged_contition_number, label='Condition number')\n",
    "axs[0].set_xlabel('Number of iterations')\n",
    "axs[0].set_ylabel('Condition number')\n",
    "axs[0].legend()\n",
    "\n",
    "axs[1].plot(x_iterations, energy_averaged_preconditioning_number, label='Preconditioning number')\n",
    "axs[1].set_xlabel('Number of iterations')\n",
    "axs[1].set_ylabel('Condition number')\n",
    "axs[1].legend()\n",
    "\n",
    "plt.show()"
   ]
  },
  {
   "cell_type": "code",
   "execution_count": null,
   "metadata": {},
   "outputs": [],
   "source": [
    "# Show the magnitude gains of the preconditioning number\n",
    "\n",
    "magnitude_gain = []\n",
    "\n",
    "for i in range(n_iterations):\n",
    "    magnitude_gain.append(energy_averaged_contition_number[i] / energy_averaged_preconditioning_number[i])\n",
    "\n",
    "plt.plot(x_iterations, magnitude_gain, label='Magnitude gain')\n",
    "plt.xlabel('Number of iterations')\n",
    "plt.ylabel('Magnitude gain')\n",
    "plt.legend()\n",
    "plt.show()"
   ]
  },
  {
   "cell_type": "code",
   "execution_count": null,
   "metadata": {},
   "outputs": [],
   "source": [
    "%matplotlib widget\n",
    "# Plot the data in a 3D bar chart\n",
    "width = 1\n",
    "depth = 1\n",
    "\n",
    "# set up the figure and axes\n",
    "fig = plt.figure()\n",
    "ax = fig.add_subplot(111, projection='3d')\n",
    "\n",
    "ax.bar3d(iterations, \n",
    "         energies, \n",
    "         np.zeros(len(condition_number)), \n",
    "         width, \n",
    "         depth, \n",
    "         condition_number, \n",
    "         shade=True)\n",
    "\n",
    "ax.set_xlabel('iterations')\n",
    "ax.set_ylabel('energies')\n",
    "ax.set_zlabel('Conditioning')\n",
    "\n",
    "plt.show()"
   ]
  },
  {
   "cell_type": "code",
   "execution_count": null,
   "metadata": {},
   "outputs": [],
   "source": [
    "%matplotlib widget\n",
    "# Plot the data in a 3D bar chart\n",
    "width = 1\n",
    "depth = 1\n",
    "\n",
    "# set up the figure and axes\n",
    "fig = plt.figure()\n",
    "ax = fig.add_subplot(111, projection='3d')\n",
    "\n",
    "ax.bar3d(iterations, \n",
    "         energies, \n",
    "         np.zeros(len(preconditioning_number)), \n",
    "         width, \n",
    "         depth, \n",
    "         preconditioning_number, \n",
    "         shade=True)\n",
    "\n",
    "ax.set_xlabel('iterations')\n",
    "ax.set_ylabel('energies')\n",
    "ax.set_zlabel('Conditioning')\n",
    "\n",
    "plt.show()"
   ]
  },
  {
   "cell_type": "code",
   "execution_count": null,
   "metadata": {},
   "outputs": [],
   "source": []
  }
 ],
 "metadata": {
  "kernelspec": {
   "display_name": "quatrex_env",
   "language": "python",
   "name": "python3"
  },
  "language_info": {
   "codemirror_mode": {
    "name": "ipython",
    "version": 3
   },
   "file_extension": ".py",
   "mimetype": "text/x-python",
   "name": "python",
   "nbconvert_exporter": "python",
   "pygments_lexer": "ipython3",
   "version": "3.11.0"
  },
  "orig_nbformat": 4
 },
 "nbformat": 4,
 "nbformat_minor": 2
}
