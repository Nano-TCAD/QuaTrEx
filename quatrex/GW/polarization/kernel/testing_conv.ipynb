{
 "cells": [
  {
   "cell_type": "code",
   "execution_count": 5,
   "metadata": {},
   "outputs": [],
   "source": [
    "import numpy as np\n",
    "from scipy.signal import convolve2d\n",
    "shape = (4,4)\n",
    "\n",
    "dim = len(shape)\n",
    "\n",
    "size = np.prod(np.array(shape))\n",
    "\n",
    "padding = ((0,0), (0,shape[1]))\n",
    "#padding = ((0,shape[0]), (0,shape[1]))\n",
    "\n",
    "x = np.arange(size).reshape(shape)\n",
    "x_pad = np.pad(x, padding)"
   ]
  },
  {
   "cell_type": "code",
   "execution_count": 19,
   "metadata": {},
   "outputs": [
    {
     "data": {
      "text/plain": [
       "array([[   0,    0,    1,    4,   10,   12,    9],\n",
       "       [   0,    8,   26,   56,   68,   64,   42],\n",
       "       [  16,   56,  123,  220,  222,  188,  115],\n",
       "       [  64,  176,  340,  560,  520,  416,  244],\n",
       "       [ 160,  368,  627,  940,  798,  596,  331],\n",
       "       [ 192,  424,  698, 1016,  836,  608,  330],\n",
       "       [ 144,  312,  505,  724,  586,  420,  225]])"
      ]
     },
     "execution_count": 19,
     "metadata": {},
     "output_type": "execute_result"
    }
   ],
   "source": [
    "convolve2d(x,x)"
   ]
  },
  {
   "cell_type": "code",
   "execution_count": 67,
   "metadata": {},
   "outputs": [
    {
     "data": {
      "text/plain": [
       "array([ 0,  0,  1,  4, 10, 12,  9])"
      ]
     },
     "execution_count": 67,
     "metadata": {},
     "output_type": "execute_result"
    }
   ],
   "source": [
    "np.convolve(x,x)"
   ]
  },
  {
   "cell_type": "code",
   "execution_count": 14,
   "metadata": {},
   "outputs": [
    {
     "data": {
      "text/plain": [
       "16"
      ]
     },
     "execution_count": 14,
     "metadata": {},
     "output_type": "execute_result"
    }
   ],
   "source": [
    "x.size"
   ]
  },
  {
   "cell_type": "code",
   "execution_count": 20,
   "metadata": {},
   "outputs": [
    {
     "name": "stderr",
     "output_type": "stream",
     "text": [
      "/tmp/ipykernel_3689038/2654393639.py:9: DeprecationWarning: `np.int` is a deprecated alias for the builtin `int`. To silence this warning, use `int` by itself. Doing this will not modify any behavior and is safe. When replacing `np.int`, you may wish to use e.g. `np.int64` or `np.int32` to specify the precision. If you wish to review your current use, check the release note link for additional information.\n",
      "Deprecated in NumPy 1.20; for more details and guidance: https://numpy.org/devdocs/release/1.20.0-notes.html#deprecations\n",
      "  conv_test1.reshape(x_pad.shape).astype(np.int)\n"
     ]
    },
    {
     "data": {
      "text/plain": [
       "array([[   0,    0,    1,    4,   10,   20,   35,   56],\n",
       "       [  84,  120,  165,  220,  286,  364,  455,  560],\n",
       "       [ 680,  784,  871,  940,  990, 1020, 1029, 1016],\n",
       "       [ 980,  920,  835,  724,  586,  420,  225,    0]])"
      ]
     },
     "execution_count": 20,
     "metadata": {},
     "output_type": "execute_result"
    }
   ],
   "source": [
    "x_fl = np.concatenate((x.ravel(), np.zeros(x.size)))# x_pad\n",
    "pad_size = x_fl.size\n",
    "conv_test1 = np.zeros(pad_size)\n",
    "\n",
    "for i in range(pad_size):\n",
    "    for j in range(pad_size):\n",
    "        x_flattened = x_fl.ravel()\n",
    "        conv_test1[i] += x_flattened[j]*x_flattened[i-j]\n",
    "conv_test1.reshape(x_pad.shape).astype(np.int)"
   ]
  },
  {
   "cell_type": "code",
   "execution_count": 10,
   "metadata": {},
   "outputs": [
    {
     "name": "stderr",
     "output_type": "stream",
     "text": [
      "/tmp/ipykernel_3689038/843273668.py:9: DeprecationWarning: `np.int` is a deprecated alias for the builtin `int`. To silence this warning, use `int` by itself. Doing this will not modify any behavior and is safe. When replacing `np.int`, you may wish to use e.g. `np.int64` or `np.int32` to specify the precision. If you wish to review your current use, check the release note link for additional information.\n",
      "Deprecated in NumPy 1.20; for more details and guidance: https://numpy.org/devdocs/release/1.20.0-notes.html#deprecations\n",
      "  conv_test2.astype(np.int)\n"
     ]
    },
    {
     "data": {
      "text/plain": [
       "array([[ 160,  368,  628,  944,  808,  608,  340,    0],\n",
       "       [ 192,  432,  724, 1072,  904,  672,  372,    0],\n",
       "       [ 160,  368,  628,  944,  808,  608,  340,    0],\n",
       "       [  64,  176,  340,  560,  520,  416,  244,    0]])"
      ]
     },
     "execution_count": 10,
     "metadata": {},
     "output_type": "execute_result"
    }
   ],
   "source": [
    "x_2d = x_pad\n",
    "conv_test2 = np.zeros(x_2d.shape)\n",
    "\n",
    "for j2 in range(x_2d.shape[1]):\n",
    "    for i1 in range(x_2d.shape[0]):\n",
    "        for i2 in range(x_2d.shape[1]):\n",
    "            for j1 in range(x_2d.shape[0]):\n",
    "                conv_test2[i1, i2] += x_2d[j1, j2]*x_2d[i1-j1, i2-j2]\n",
    "conv_test2.astype(np.int)"
   ]
  },
  {
   "cell_type": "code",
   "execution_count": 31,
   "metadata": {},
   "outputs": [
    {
     "data": {
      "text/plain": [
       "array([[[1408., 1472., 1536., 1344.],\n",
       "        [1664., 1728., 1792., 1600.],\n",
       "        [1920., 1984., 2048., 1856.],\n",
       "        [1152., 1216., 1280., 1088.]],\n",
       "\n",
       "       [[2432., 2496., 2560., 2368.],\n",
       "        [2688., 2752., 2816., 2624.],\n",
       "        [2944., 3008., 3072., 2880.],\n",
       "        [2176., 2240., 2304., 2112.]],\n",
       "\n",
       "       [[3456., 3520., 3584., 3392.],\n",
       "        [3712., 3776., 3840., 3648.],\n",
       "        [3968., 4032., 4096., 3904.],\n",
       "        [3200., 3264., 3328., 3136.]],\n",
       "\n",
       "       [[ 384.,  448.,  512.,  320.],\n",
       "        [ 640.,  704.,  768.,  576.],\n",
       "        [ 896.,  960., 1024.,  832.],\n",
       "        [ 128.,  192.,  256.,   64.]]])"
      ]
     },
     "execution_count": 31,
     "metadata": {},
     "output_type": "execute_result"
    }
   ],
   "source": [
    "conv_test3 = np.zeros(shape)\n",
    "\n",
    "for j2 in range(shape[1]):\n",
    "    for i1 in range(shape[0]):\n",
    "        for i2 in range(shape[1]):\n",
    "            for j1 in range(shape[0]):\n",
    "                for i3 in range(shape[2]):\n",
    "                    for j3 in range(shape[2]):\n",
    "                        conv_test3[i1, i2, i3] += x[j1, j2, j3]*x[i1-j1, i2-j2, i3-j3]\n",
    "conv_test3"
   ]
  },
  {
   "cell_type": "code",
   "execution_count": 16,
   "metadata": {},
   "outputs": [
    {
     "data": {
      "text/plain": [
       "array([3., 6., 9., 0.])"
      ]
     },
     "execution_count": 16,
     "metadata": {},
     "output_type": "execute_result"
    }
   ],
   "source": [
    "size = 4\n",
    "conv_test1 = np.zeros(size)\n",
    "\n",
    "for i in range(size):\n",
    "    for j in range(size):\n",
    "        x_flattened = np.arange(size)\n",
    "        conv_test1[i] = x_flattened[j]*x_flattened[i-j]\n",
    "conv_test1"
   ]
  },
  {
   "cell_type": "code",
   "execution_count": 25,
   "metadata": {},
   "outputs": [
    {
     "name": "stdout",
     "output_type": "stream",
     "text": [
      "[3]\n",
      "(array([-2]),)\n"
     ]
    },
    {
     "ename": "IndexError",
     "evalue": "too many indices for array: array is 1-dimensional, but 2 were indexed",
     "output_type": "error",
     "traceback": [
      "\u001b[0;31m---------------------------------------------------------------------------\u001b[0m",
      "\u001b[0;31mIndexError\u001b[0m                                Traceback (most recent call last)",
      "\u001b[0;32m/tmp/ipykernel_3750055/2012982815.py\u001b[0m in \u001b[0;36m<module>\u001b[0;34m\u001b[0m\n\u001b[1;32m     18\u001b[0m \u001b[0;31m#ind_mat[0,-1,1]\u001b[0m\u001b[0;34m\u001b[0m\u001b[0;34m\u001b[0m\u001b[0m\n\u001b[1;32m     19\u001b[0m \u001b[0mprint\u001b[0m\u001b[0;34m(\u001b[0m\u001b[0mmd\u001b[0m\u001b[0;34m)\u001b[0m\u001b[0;34m\u001b[0m\u001b[0;34m\u001b[0m\u001b[0m\n\u001b[0;32m---> 20\u001b[0;31m \u001b[0mprint\u001b[0m\u001b[0;34m(\u001b[0m\u001b[0mind_mat\u001b[0m\u001b[0;34m[\u001b[0m\u001b[0mind_mat\u001b[0m\u001b[0;34m==\u001b[0m\u001b[0mmi1\u001b[0m\u001b[0;34m]\u001b[0m\u001b[0;34m)\u001b[0m\u001b[0;34m\u001b[0m\u001b[0;34m\u001b[0m\u001b[0m\n\u001b[0m",
      "\u001b[0;31mIndexError\u001b[0m: too many indices for array: array is 1-dimensional, but 2 were indexed"
     ]
    }
   ],
   "source": [
    "import numpy as np\n",
    "\n",
    "ki1 = 2\n",
    "ki2 = 4\n",
    "\n",
    "num_kpoints = np.array([5])\n",
    "\n",
    "nkpts = np.prod(num_kpoints)\n",
    "\n",
    "ind_mat = np.arange(nkpts).reshape(num_kpoints)\n",
    "\n",
    "mi1 = np.array(np.where(ind_mat==ki1))\n",
    "mi2 = np.array(np.where(ind_mat==ki2))\n",
    "\n",
    "md = tuple(mi1-mi2)\n",
    "\n",
    "print(ind_mat[md])\n",
    "#ind_mat[0,-1,1]\n",
    "print(md)\n",
    "print(ind_mat[ind_mat==mi1])"
   ]
  },
  {
   "cell_type": "code",
   "execution_count": null,
   "metadata": {},
   "outputs": [],
   "source": []
  }
 ],
 "metadata": {
  "kernelspec": {
   "display_name": "Python 3",
   "language": "python",
   "name": "python3"
  },
  "language_info": {
   "codemirror_mode": {
    "name": "ipython",
    "version": 3
   },
   "file_extension": ".py",
   "mimetype": "text/x-python",
   "name": "python",
   "nbconvert_exporter": "python",
   "pygments_lexer": "ipython3",
   "version": "3.9.12"
  }
 },
 "nbformat": 4,
 "nbformat_minor": 2
}
