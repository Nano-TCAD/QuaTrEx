{
 "cells": [
  {
   "cell_type": "code",
   "execution_count": 8,
   "metadata": {},
   "outputs": [],
   "source": [
    "import numpy as np\n",
    "import pandas as pd\n",
    "\n",
    "import matplotlib.pyplot as plt\n",
    "import matplotlib\n",
    "import matplotlib.colors as colors\n",
    "import matplotlib.ticker as ticker\n",
    "\n",
    "import gif"
   ]
  },
  {
   "cell_type": "code",
   "execution_count": 9,
   "metadata": {},
   "outputs": [],
   "source": [
    "DOS_TEST = np.loadtxt('DOS_1.dat').view(complex)\n",
    "E = np.loadtxt('E.dat')\n",
    "x = np.arange(6)\n",
    "\n",
    "EE, X = np.meshgrid(E, x)"
   ]
  },
  {
   "cell_type": "code",
   "execution_count": 10,
   "metadata": {},
   "outputs": [
    {
     "data": {
      "text/plain": [
       "<matplotlib.collections.QuadMesh at 0x2b5849c07fa0>"
      ]
     },
     "execution_count": 10,
     "metadata": {},
     "output_type": "execute_result"
    },
    {
     "data": {
      "image/png": "[encoded data removed]",
      "text/plain": [
       "<Figure size 640x480 with 1 Axes>"
      ]
     },
     "metadata": {},
     "output_type": "display_data"
    }
   ],
   "source": [
    "plt.pcolormesh(X, EE, DOS_TEST.T.real)"
   ]
  },
  {
   "cell_type": "code",
   "execution_count": 11,
   "metadata": {},
   "outputs": [],
   "source": [
    "@gif.frame\n",
    "def plot_standard():\n",
    "    plt.pcolormesh(X, EE, DOS_TEST.T.real)"
   ]
  },
  {
   "cell_type": "code",
   "execution_count": 12,
   "metadata": {},
   "outputs": [],
   "source": [
    "@gif.frame\n",
    "def plot_gold(i):\n",
    "\n",
    "    font = {'weight' : 'normal',\n",
    "\t'size'   : 35}\n",
    "    matplotlib.rc('font', **font)\n",
    "    def fmt(x, pos):\n",
    "        a, b = '{:.1e}'.format(x).split('e')\n",
    "        b = int(b)\n",
    "        return r'${} \\times 10^{{{}}}$'.format(a, b)\n",
    "\n",
    "\n",
    "    def fmt_1(x, pos):\n",
    "        return int(x)\n",
    "    \n",
    "    DOS_TEST = np.loadtxt('DOS_' + str(i) + '.dat').view(complex)\n",
    "    E = np.loadtxt('E.dat')\n",
    "    EFL = np.loadtxt('EFL.dat')\n",
    "    EFR = np.loadtxt('EFR.dat')\n",
    "    x = np.arange(6)\n",
    "    x_fl = np.linspace(-0.5, 5.55, 100)\n",
    "    Efl_dotted = EFL[i+1] * np.ones((7))\n",
    "    Efr_dotted = EFL[i+1] * np.ones((7))\n",
    "\n",
    "    EE, X = np.meshgrid(E, x)\n",
    "    \n",
    "    plt.figure(figsize = (13,12))\n",
    "    ax1 = plt.gca()\n",
    "    ax1.set_xlabel('Transport Direction' + ' ' + r'$\\mathbf{x}$' + ' ' + r'$ [\\mathbf{u.c.}]$')\n",
    "    ax1.set_ylabel('Energy' + ' '  + r'$[\\mathbf{eV}]$')\n",
    "    plot = plt.pcolormesh(X, EE, DOS_TEST.T.real, cmap = 'gist_heat_r')\n",
    "    cbar = plt.colorbar(plot, format = ticker.FuncFormatter(fmt_1))\n",
    "    cbar.ax.set_ylabel('DOS' + ' ' + r'$[\\mathbf{\\left( eV\\cdot nm ^3 \\right) ^{-1}}]$')\n",
    "\n",
    "    ax1.plot(x_fl[0:len(Efl_dotted)], Efl_dotted, color = 'black', linestyle = 'dashed', linewidth = '4')\n",
    "    ax1.plot(x_fl[-len(Efr_dotted)-1:-1], Efr_dotted, color = 'black', linestyle = 'dashed', linewidth = '4')\n",
    "\n",
    "    plt.text(0.00, EFL[i+1] - 0.1, r'$\\mathbf{E_{FL}}$', fontsize = 27)\n",
    "    plt.text(4.60, EFL[i+1] - 0.1, r'$\\mathbf{E_{FR}}$', fontsize = 27)\n",
    "    plt.ylim(-8, 0)"
   ]
  },
  {
   "cell_type": "code",
   "execution_count": 13,
   "metadata": {},
   "outputs": [],
   "source": [
    "frames = [plot_gold(i) for i in range(3)]\n",
    "gif.save(frames, 'DOS.gif', duration = 3000)"
   ]
  },
  {
   "cell_type": "code",
   "execution_count": 14,
   "metadata": {},
   "outputs": [
    {
     "data": {
      "text/plain": [
       "(243.21607170619984+0j)"
      ]
     },
     "execution_count": 14,
     "metadata": {},
     "output_type": "execute_result"
    }
   ],
   "source": [
    "np.max(DOS_TEST[:, 0])"
   ]
  },
  {
   "cell_type": "code",
   "execution_count": null,
   "metadata": {},
   "outputs": [],
   "source": []
  }
 ],
 "metadata": {
  "kernelspec": {
   "display_name": "almaeder_mkl",
   "language": "python",
   "name": "python3"
  },
  "language_info": {
   "codemirror_mode": {
    "name": "ipython",
    "version": 3
   },
   "file_extension": ".py",
   "mimetype": "text/x-python",
   "name": "python",
   "nbconvert_exporter": "python",
   "pygments_lexer": "ipython3",
   "version": "3.8.10"
  },
  "orig_nbformat": 4
 },
 "nbformat": 4,
 "nbformat_minor": 2
}
